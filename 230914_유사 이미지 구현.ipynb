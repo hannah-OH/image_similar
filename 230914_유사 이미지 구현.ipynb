{
 "cells": [
  {
   "cell_type": "markdown",
   "id": "f357c879",
   "metadata": {},
   "source": [
    "# 주제 : 사전 학습된 keras 속의 CNN 모델을 이용하여 포켓몬의 유사도 구하기\n",
    "* 데이터 : https://www.kaggle.com/datasets/vishalsubbiah/pokemon-images-and-types"
   ]
  },
  {
   "cell_type": "code",
   "execution_count": 1,
   "id": "412f5b2c",
   "metadata": {},
   "outputs": [],
   "source": [
    "from tensorflow.keras.preprocessing import image\n",
    "import tensorflow as tf\n",
    "from tensorflow.keras.applications import vgg16, resnet50\n",
    "from tensorflow.keras.models import Model\n",
    "from keras.applications.resnet50 import preprocess_input\n",
    "from PIL import Image\n",
    "import requests\n",
    "\n",
    "import pandas as pd\n",
    "import numpy as np\n",
    "import cv2\n",
    "from numpy import dot\n",
    "from numpy.linalg import norm\n",
    "\n",
    "import os\n",
    "import warnings\n",
    "warnings.filterwarnings(action=\"ignore\")"
   ]
  },
  {
   "cell_type": "code",
   "execution_count": 2,
   "id": "2d323d72",
   "metadata": {},
   "outputs": [],
   "source": [
    "class FeatureExtractor:\n",
    "    def __init__(self, weights: str = \"imagenet\", color_type: str = \"RGB\"):\n",
    "        base_model = tf.keras.applications.VGG16(weights=weights)\n",
    "        self.model = Model(inputs=base_model.input, outputs=base_model.get_layer(\"fc1\").output)\n",
    "        self.color_type = color_type\n",
    "        \n",
    "    def _convert_url(self, url):\n",
    "        return Image.open(requests.get(url, stream=True).raw)\n",
    "        \n",
    "    def get_feature(self, url):\n",
    "        images = self._convert_url(url)\n",
    "        \n",
    "        return self.model.get_extract(images)\n",
    "\n",
    "    def get_extract(self, img):\n",
    "        img = img.resize((224, 224))\n",
    "        img = img.convert(self.color_type) \n",
    "\n",
    "        x = np.array(img)\n",
    "        x = np.expand_dims(x, axis=0)\n",
    "        x = preprocess_input(x)\n",
    "        feature = self.model.predict(x)[0]\n",
    "\n",
    "        return feature / norm(feature)"
   ]
  },
  {
   "cell_type": "code",
   "execution_count": 3,
   "id": "918c626d",
   "metadata": {},
   "outputs": [],
   "source": [
    "root_dir = \"./data/images/images\"\n",
    "files =  os.path.join(root_dir)\n",
    "File_names = os.listdir(files)"
   ]
  },
  {
   "cell_type": "code",
   "execution_count": 4,
   "id": "9196ab7d",
   "metadata": {},
   "outputs": [],
   "source": [
    "fe = FeatureExtractor()"
   ]
  },
  {
   "cell_type": "code",
   "execution_count": 5,
   "id": "05307e3b",
   "metadata": {},
   "outputs": [],
   "source": [
    "def _cos_sin(A, B):\n",
    "    return dot(A, B) / (norm(A) * norm(B))"
   ]
  },
  {
   "cell_type": "code",
   "execution_count": 6,
   "id": "b9e0e835",
   "metadata": {},
   "outputs": [
    {
     "name": "stdout",
     "output_type": "stream",
     "text": [
      "1/1 [==============================] - 0s 442ms/step\n",
      "1/1 [==============================] - 0s 267ms/step\n",
      "두 이미지의 유사도: 1.0\n"
     ]
    }
   ],
   "source": [
    "# 포켓몬의 이름을 바꾸면 유사도를 구할 수 있음\n",
    "\n",
    "image1_path = os.path.join(root_dir, 'abomasnow.png')\n",
    "image2_path = os.path.join(root_dir, 'abomasnow.png')\n",
    "\n",
    "image1 = fe.get_extract(img=Image.open(image1_path))\n",
    "image2 = fe.get_extract(img=Image.open(image2_path))\n",
    "\n",
    "cosine_similarity = _cos_sin(image1, image2)\n",
    "print(f\"두 이미지의 유사도:\", round(cosine_similarity, 2))"
   ]
  }
 ],
 "metadata": {
  "kernelspec": {
   "display_name": "Python 3 (ipykernel)",
   "language": "python",
   "name": "python3"
  },
  "language_info": {
   "codemirror_mode": {
    "name": "ipython",
    "version": 3
   },
   "file_extension": ".py",
   "mimetype": "text/x-python",
   "name": "python",
   "nbconvert_exporter": "python",
   "pygments_lexer": "ipython3",
   "version": "3.10.9"
  }
 },
 "nbformat": 4,
 "nbformat_minor": 5
}
